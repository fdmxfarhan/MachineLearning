{
 "cells": [
  {
   "cell_type": "markdown",
   "id": "fb1f0650",
   "metadata": {},
   "source": [
    "# What is Classification?\n",
    "\n",
    "**Classification** is a supervised machine learning task where the goal is to predict the category (class) of new observations based on past data. Each data point is assigned a label, and the model learns to distinguish between these labels.\n",
    "\n",
    "## Examples of Classification Problems\n",
    "\n",
    "- **Email Spam Detection:** Classify emails as \"spam\" or \"not spam\".\n",
    "- **Image Recognition:** Identify objects in images (e.g., cat, dog, car).\n",
    "- **Medical Diagnosis:** Predict if a patient has a disease (e.g., \"positive\" or \"negative\").\n",
    "\n",
    "## How Classification Works\n",
    "\n",
    "1. **Training Data:** You provide the model with labeled examples.\n",
    "2. **Learning:** The model finds patterns that distinguish the classes.\n",
    "3. **Prediction:** For new, unlabeled data, the model predicts the class.\n",
    "\n",
    "## Common Classification Algorithms\n",
    "\n",
    "- **Logistic Regression**\n",
    "- **Decision Trees**\n",
    "- **Random Forests**\n",
    "- **Support Vector Machines (SVM)**\n",
    "- **K-Nearest Neighbors (KNN)**\n",
    "- **Neural Networks**\n",
    "\n",
    "## Example: Iris Flower Classification\n",
    "\n",
    "Suppose you have measurements of iris flowers and want to classify them into species (Setosa, Versicolor, Virginica).\n",
    "\n",
    "```python\n",
    "from sklearn.datasets import load_iris\n",
    "from sklearn.model_selection import train_test_split\n",
    "from sklearn.ensemble import RandomForestClassifier\n",
    "\n",
    "# Load data\n",
    "iris = load_iris()\n",
    "X = iris.data\n",
    "y = iris.target\n",
    "\n",
    "# Split into train and test sets\n",
    "X_train, X_test, y_train, y_test = train_test_split(X, y, test_size=0.2, random_state=42)\n",
    "\n",
    "# Train classifier\n",
    "clf = RandomForestClassifier()\n",
    "clf.fit(X_train, y_train)\n",
    "\n",
    "# Predict and evaluate\n",
    "accuracy = clf.score(X_test, y_test)\n",
    "print(\"Accuracy:\", accuracy)\n",
    "```\n",
    "\n",
    "## Summary\n",
    "\n",
    "- **Classification** assigns labels to data points.\n",
    "- It’s used in many real-world applications.\n",
    "- Many algorithms are available"
   ]
  },
  {
   "cell_type": "code",
   "execution_count": 1,
   "id": "e8ee189f",
   "metadata": {},
   "outputs": [
    {
     "name": "stdout",
     "output_type": "stream",
     "text": [
      "Accuracy: 1.0\n"
     ]
    }
   ],
   "source": [
    "from sklearn.datasets import load_iris\n",
    "from sklearn.model_selection import train_test_split\n",
    "from sklearn.ensemble import RandomForestClassifier\n",
    "\n",
    "# Load data\n",
    "iris = load_iris()\n",
    "X = iris.data\n",
    "y = iris.target\n",
    "\n",
    "# Split into train and test sets\n",
    "X_train, X_test, y_train, y_test = train_test_split(X, y, test_size=0.2, random_state=42)\n",
    "\n",
    "# Train classifier\n",
    "clf = RandomForestClassifier()\n",
    "clf.fit(X_train, y_train)\n",
    "\n",
    "# Predict and evaluate\n",
    "accuracy = clf.score(X_test, y_test)\n",
    "print(\"Accuracy:\", accuracy)"
   ]
  }
 ],
 "metadata": {
  "kernelspec": {
   "display_name": "Python 3",
   "language": "python",
   "name": "python3"
  },
  "language_info": {
   "codemirror_mode": {
    "name": "ipython",
    "version": 3
   },
   "file_extension": ".py",
   "mimetype": "text/x-python",
   "name": "python",
   "nbconvert_exporter": "python",
   "pygments_lexer": "ipython3",
   "version": "3.13.5"
  }
 },
 "nbformat": 4,
 "nbformat_minor": 5
}
