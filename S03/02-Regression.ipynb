{
 "cells": [
  {
   "cell_type": "markdown",
   "id": "1fbda9a7",
   "metadata": {},
   "source": [
    "# What is Regression?\n",
    "\n",
    "**Regression** is a supervised machine learning technique used to predict a continuous value (number) based on input data. Unlike classification, which predicts categories, regression predicts quantities.\n",
    "\n",
    "## Examples of Regression Problems\n",
    "\n",
    "- **House Price Prediction:** Estimate the price of a house based on features like size, location, and number of rooms.\n",
    "- **Stock Price Forecasting:** Predict future stock prices using historical data.\n",
    "- **Weather Prediction:** Forecast temperature or rainfall amounts.\n",
    "\n",
    "## How Regression Works\n",
    "\n",
    "1. **Training Data:** You provide the model with examples where both inputs and outputs (numbers) are known.\n",
    "2. **Learning:** The model finds relationships between the input features and the output value.\n",
    "3. **Prediction:** For new data, the model predicts a continuous value.\n",
    "\n",
    "## Common Regression Algorithms\n",
    "\n",
    "- **Linear Regression**\n",
    "- **Decision Trees**\n",
    "- **Random Forests**\n",
    "- **Support Vector Regression (SVR)**\n",
    "- **Neural Networks**\n",
    "\n",
    "## Example: Predicting House Prices with Linear Regression\n",
    "\n",
    "```python\n",
    "import numpy as np\n",
    "import pandas as pd\n",
    "from sklearn.linear_model import LinearRegression\n",
    "from sklearn.model_selection import train_test_split\n",
    "\n",
    "# Example data: house size and price\n",
    "data = {\n",
    "    'size': [750, 800, 850, 900, 950, 1000, 1050, 1100],\n",
    "    'price': [150, 170, 180, 200, 210, 230, 240, 260]\n",
    "}\n",
    "df = pd.DataFrame(data)\n",
    "\n",
    "X = df[['size']]\n",
    "y = df['price']\n",
    "\n",
    "# Split into train and test sets\n",
    "X_train, X_test, y_train, y_test = train_test_split(X, y, test_size=0.2, random_state=42)\n",
    "\n",
    "# Train regression model\n",
    "model = LinearRegression()\n",
    "model.fit(X_train, y_train)\n",
    "\n",
    "# Predict and evaluate\n",
    "predictions = model.predict(X_test)\n",
    "print(\"Predicted prices:\", predictions)\n",
    "print(\"Actual prices:\", y_test.values)\n",
    "```\n",
    "\n",
    "## Summary\n",
    "\n",
    "- **Regression** predicts continuous values.\n",
    "- Used in finance, science, engineering, and more.\n",
    "- Many algorithms are available for"
   ]
  },
  {
   "cell_type": "code",
   "execution_count": 1,
   "id": "484ce578",
   "metadata": {},
   "outputs": [
    {
     "name": "stdout",
     "output_type": "stream",
     "text": [
      "Predicted prices: [165.6 227.2]\n",
      "Actual prices: [170 230]\n"
     ]
    }
   ],
   "source": [
    "import numpy as np\n",
    "import pandas as pd\n",
    "from sklearn.linear_model import LinearRegression\n",
    "from sklearn.model_selection import train_test_split\n",
    "\n",
    "# Example data: house size and price\n",
    "data = {\n",
    "    'size': [750, 800, 850, 900, 950, 1000, 1050, 1100],\n",
    "    'price': [150, 170, 180, 200, 210, 230, 240, 260]\n",
    "}\n",
    "df = pd.DataFrame(data)\n",
    "\n",
    "X = df[['size']]\n",
    "y = df['price']\n",
    "\n",
    "# Split into train and test sets\n",
    "X_train, X_test, y_train, y_test = train_test_split(X, y, test_size=0.2, random_state=42)\n",
    "\n",
    "# Train regression model\n",
    "model = LinearRegression()\n",
    "model.fit(X_train, y_train)\n",
    "\n",
    "# Predict and evaluate\n",
    "predictions = model.predict(X_test)\n",
    "print(\"Predicted prices:\", predictions)\n",
    "print(\"Actual prices:\", y_test.values)"
   ]
  }
 ],
 "metadata": {
  "kernelspec": {
   "display_name": "Python 3",
   "language": "python",
   "name": "python3"
  },
  "language_info": {
   "codemirror_mode": {
    "name": "ipython",
    "version": 3
   },
   "file_extension": ".py",
   "mimetype": "text/x-python",
   "name": "python",
   "nbconvert_exporter": "python",
   "pygments_lexer": "ipython3",
   "version": "3.13.5"
  }
 },
 "nbformat": 4,
 "nbformat_minor": 5
}
