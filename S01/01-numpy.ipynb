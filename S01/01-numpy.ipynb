{
 "cells": [
  {
   "cell_type": "code",
   "execution_count": 1,
   "id": "9a62948b",
   "metadata": {},
   "outputs": [
    {
     "name": "stdout",
     "output_type": "stream",
     "text": [
      "[1 2 3]\n",
      "[[1 2]\n",
      " [3 4]]\n"
     ]
    }
   ],
   "source": [
    "import numpy as np\n",
    "\n",
    "a = np.array([1, 2, 3])\n",
    "b = np.array([[1, 2], [3, 4]])\n",
    "\n",
    "print(a)\n",
    "print(b)"
   ]
  },
  {
   "cell_type": "code",
   "execution_count": null,
   "id": "6ce0c38d",
   "metadata": {},
   "outputs": [
    {
     "name": "stdout",
     "output_type": "stream",
     "text": [
      "[6 7 8]\n",
      "[[2 4]\n",
      " [6 8]]\n",
      "6\n",
      "2.5\n"
     ]
    }
   ],
   "source": [
    "print(a + 5 )                          # Add 5 to each element\n",
    "print(b * 2 )                          # Multiply each element by 2\n",
    "print(a.sum())                         # Sum of all elements\n",
    "print(b.mean())                        # Mean of all elements"
   ]
  },
  {
   "cell_type": "code",
   "execution_count": null,
   "id": "46d78d4d",
   "metadata": {},
   "outputs": [
    {
     "name": "stdout",
     "output_type": "stream",
     "text": [
      "[[0. 0. 0.]\n",
      " [0. 0. 0.]]\n",
      "[[1. 1.]\n",
      " [1. 1.]\n",
      " [1. 1.]]\n",
      "[0 2 4 6 8]\n",
      "[0.   0.25 0.5  0.75 1.  ]\n"
     ]
    }
   ],
   "source": [
    "print(np.zeros((2, 3)))             # 2x3 array of zeros\n",
    "print(np.ones((3, 2)))              # 3x2 array of ones\n",
    "print(np.arange(0, 10, 2))          # Array: [0, 2, 4, 6, 8]\n",
    "print(np.linspace(0, 1, 5))         # 5 numbers from 0 to 1"
   ]
  },
  {
   "cell_type": "code",
   "execution_count": 5,
   "id": "484a7124",
   "metadata": {},
   "outputs": [
    {
     "name": "stdout",
     "output_type": "stream",
     "text": [
      "1\n",
      "[2 4]\n",
      "[2 3]\n"
     ]
    }
   ],
   "source": [
    "print(a[0])                         # First element\n",
    "print(b[:, 1])                      # Second column\n",
    "print(a[1:])                        # Slice from index 1 to end"
   ]
  },
  {
   "cell_type": "code",
   "execution_count": 8,
   "id": "f30bad26",
   "metadata": {},
   "outputs": [
    {
     "name": "stdout",
     "output_type": "stream",
     "text": [
      "[[0 1 2]\n",
      " [3 4 5]]\n"
     ]
    }
   ],
   "source": [
    "print(np.arange(6).reshape((2, 3)))    # 2x3 array"
   ]
  },
  {
   "cell_type": "code",
   "execution_count": null,
   "id": "a1fe6375",
   "metadata": {},
   "outputs": [
    {
     "data": {
      "text/plain": [
       "array([[19, 22],\n",
       "       [43, 50]])"
      ]
     },
     "execution_count": 12,
     "metadata": {},
     "output_type": "execute_result"
    }
   ],
   "source": [
    "m1 = np.array([[1, 2], [3, 4]])\n",
    "m2 = np.array([[5, 6], [7, 8]])\n",
    "print(np.dot(m1, m2))                # Matrix multiplication"
   ]
  },
  {
   "cell_type": "code",
   "execution_count": null,
   "id": "e6ec5589",
   "metadata": {},
   "outputs": [
    {
     "data": {
      "text/plain": [
       "array([[0.36267006, 0.06816811],\n",
       "       [0.21967658, 0.69194787]])"
      ]
     },
     "execution_count": 11,
     "metadata": {},
     "output_type": "execute_result"
    }
   ],
   "source": [
    "np.random.rand(2, 2)         # 2x2 array of random numbers"
   ]
  },
  {
   "cell_type": "code",
   "execution_count": 14,
   "id": "2d21ed4d",
   "metadata": {},
   "outputs": [
    {
     "data": {
      "text/plain": [
       "array([1, 2, 3])"
      ]
     },
     "execution_count": 14,
     "metadata": {},
     "output_type": "execute_result"
    }
   ],
   "source": [
    "np.save('my_array.npy', a)\n",
    "np.load('my_array.npy')"
   ]
  }
 ],
 "metadata": {
  "kernelspec": {
   "display_name": "Python 3",
   "language": "python",
   "name": "python3"
  },
  "language_info": {
   "codemirror_mode": {
    "name": "ipython",
    "version": 3
   },
   "file_extension": ".py",
   "mimetype": "text/x-python",
   "name": "python",
   "nbconvert_exporter": "python",
   "pygments_lexer": "ipython3",
   "version": "3.13.5"
  }
 },
 "nbformat": 4,
 "nbformat_minor": 5
}
