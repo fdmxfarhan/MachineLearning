{
 "cells": [
  {
   "cell_type": "code",
   "execution_count": 16,
   "id": "e4c9fde9",
   "metadata": {},
   "outputs": [
    {
     "name": "stdout",
     "output_type": "stream",
     "text": [
      "      Name  Age    City\n",
      "0    Alice   25  London\n",
      "1      Bob   30   Paris\n",
      "2  Charlie   35  Berlin\n"
     ]
    }
   ],
   "source": [
    "import pandas as pd\n",
    "\n",
    "data = {\n",
    "    'Name': ['Alice', 'Bob', 'Charlie'],\n",
    "    'Age': [25, 30, 35],\n",
    "    'City': ['London', 'Paris', 'Berlin']\n",
    "}\n",
    "df = pd.DataFrame(data)\n",
    "print(df)"
   ]
  },
  {
   "cell_type": "code",
   "execution_count": null,
   "id": "2a742a78",
   "metadata": {},
   "outputs": [],
   "source": [
    "df = pd.read_csv('filename.csv')"
   ]
  },
  {
   "cell_type": "code",
   "execution_count": 6,
   "id": "e0d8dcdb",
   "metadata": {},
   "outputs": [
    {
     "name": "stdout",
     "output_type": "stream",
     "text": [
      "\n",
      "First 5 rows:\n",
      "       Name  Age    City\n",
      "0    Alice   25  London\n",
      "1      Bob   30   Paris\n",
      "2  Charlie   35  Berlin\n",
      "\n",
      "Last 5 rows:\n",
      "       Name  Age    City\n",
      "0    Alice   25  London\n",
      "1      Bob   30   Paris\n",
      "2  Charlie   35  Berlin\n",
      "<class 'pandas.core.frame.DataFrame'>\n",
      "RangeIndex: 3 entries, 0 to 2\n",
      "Data columns (total 3 columns):\n",
      " #   Column  Non-Null Count  Dtype \n",
      "---  ------  --------------  ----- \n",
      " 0   Name    3 non-null      object\n",
      " 1   Age     3 non-null      int64 \n",
      " 2   City    3 non-null      object\n",
      "dtypes: int64(1), object(2)\n",
      "memory usage: 204.0+ bytes\n",
      "\n",
      "Info about DataFrame:\n",
      " None\n",
      "\n",
      "Statistics:\n",
      "         Age\n",
      "count   3.0\n",
      "mean   30.0\n",
      "std     5.0\n",
      "min    25.0\n",
      "25%    27.5\n",
      "50%    30.0\n",
      "75%    32.5\n",
      "max    35.0\n"
     ]
    }
   ],
   "source": [
    "print('\\nFirst 5 rows:\\n', df.head())        \n",
    "print('\\nLast 5 rows:\\n', df.tail())        \n",
    "print('\\nInfo about DataFrame:\\n', df.info())        \n",
    "print('\\nStatistics:\\n', df.describe())    "
   ]
  },
  {
   "cell_type": "code",
   "execution_count": 8,
   "id": "7e7cda61",
   "metadata": {},
   "outputs": [
    {
     "name": "stdout",
     "output_type": "stream",
     "text": [
      "\n",
      " 0      Alice\n",
      "1        Bob\n",
      "2    Charlie\n",
      "Name: Name, dtype: object\n",
      "\n",
      " Name     Alice\n",
      "Age         25\n",
      "City    London\n",
      "Name: 0, dtype: object\n",
      "\n",
      "       Name  Age    City\n",
      "1      Bob   30   Paris\n",
      "2  Charlie   35  Berlin\n"
     ]
    }
   ],
   "source": [
    "print('\\n', df['Name'])               # Select column\n",
    "print('\\n', df.loc[0])                # Select row by index\n",
    "print('\\n', df.iloc[1:3])             # Select rows by position"
   ]
  },
  {
   "cell_type": "code",
   "execution_count": 9,
   "id": "a9dad59a",
   "metadata": {},
   "outputs": [
    {
     "name": "stdout",
     "output_type": "stream",
     "text": [
      "      Name  Age    City\n",
      "1      Bob   30   Paris\n",
      "2  Charlie   35  Berlin\n"
     ]
    }
   ],
   "source": [
    "adults = df[df['Age'] > 28]\n",
    "print(adults)"
   ]
  },
  {
   "cell_type": "code",
   "execution_count": 17,
   "id": "a9032fa9",
   "metadata": {},
   "outputs": [
    {
     "name": "stdout",
     "output_type": "stream",
     "text": [
      "      Name  Age    City  Country\n",
      "0    Alice   25  London       UK\n",
      "1      Bob   30   Paris   France\n",
      "2  Charlie   35  Berlin  Germany\n",
      "      Name  Age  Country\n",
      "0    Alice   25       UK\n",
      "1      Bob   30   France\n",
      "2  Charlie   35  Germany\n"
     ]
    }
   ],
   "source": [
    "df['Country'] = ['UK', 'France', 'Germany']   # Add column\n",
    "print(df)\n",
    "df = df.drop('City', axis=1)                  # Remove column\n",
    "print(df)"
   ]
  },
  {
   "cell_type": "code",
   "execution_count": 19,
   "id": "0eb741dc",
   "metadata": {},
   "outputs": [
    {
     "name": "stdout",
     "output_type": "stream",
     "text": [
      "Country\n",
      "France     30.0\n",
      "Germany    35.0\n",
      "UK         25.0\n",
      "Name: Age, dtype: float64\n"
     ]
    }
   ],
   "source": [
    "grouped = df.groupby('Country')['Age'].mean()\n",
    "print(grouped)"
   ]
  },
  {
   "cell_type": "code",
   "execution_count": 20,
   "id": "53e2f597",
   "metadata": {},
   "outputs": [],
   "source": [
    "df.to_csv('output.csv', index=False)"
   ]
  }
 ],
 "metadata": {
  "kernelspec": {
   "display_name": "Python 3",
   "language": "python",
   "name": "python3"
  },
  "language_info": {
   "codemirror_mode": {
    "name": "ipython",
    "version": 3
   },
   "file_extension": ".py",
   "mimetype": "text/x-python",
   "name": "python",
   "nbconvert_exporter": "python",
   "pygments_lexer": "ipython3",
   "version": "3.13.5"
  }
 },
 "nbformat": 4,
 "nbformat_minor": 5
}
